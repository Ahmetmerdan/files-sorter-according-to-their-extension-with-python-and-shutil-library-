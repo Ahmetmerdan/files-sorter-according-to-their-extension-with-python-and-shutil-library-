{
 "cells": [
  {
   "cell_type": "code",
   "execution_count": 1,
   "id": "111f28f1",
   "metadata": {},
   "outputs": [
    {
     "name": "stdout",
     "output_type": "stream",
     "text": [
      "Enter the path to the folder to be optimized: C:\\Users\\Ce la vie\\Desktop\\Rufus\\harakteriska\n",
      "unknown extension  .xlsx\n",
      "unknown extension  .ipynb\n",
      "unknown extension  .xlsx\n",
      "unknown extension  .ipynb\n",
      "unknown extension  .ipynb\n",
      "unknown extension  .ipynb\n"
     ]
    }
   ],
   "source": [
    "\n",
    "#pip install pytest-shutil\n",
    "\n",
    "\n",
    "#importing dependencies \n",
    "import os\n",
    "import shutil\n",
    "\n",
    "\n",
    "# creating dictionary with file extensions, in case of necessity we can specify more extensions as well as folders\n",
    "file_extensions = {\n",
    "    \".txt\": \"Text Files\",\n",
    "    \".docx\": \"Word Documents\",\n",
    "    \".pdf\": \"PDF Files\",\n",
    "    \".jpg\": \"JPEG Images\",\n",
    "    \".png\": \"PNG Images\",\n",
    "    \".mp3\": \"MP3 Audio\",\n",
    "    \".mp4\": \"MP4 Video\"\n",
    "}\n",
    "\n",
    "# asking the user to specify directory which need to be sorted \n",
    "folder_to_optimize = input(\"Enter the path to the folder to be optimized: \")\n",
    "\n",
    "#  creating function create folder which will create according to extention name and creating if there is not one \n",
    "def create_folders():\n",
    "    for folder_name in file_extensions.values():\n",
    "        folder_path = os.path.join(folder_to_optimize, folder_name)\n",
    "        if not os.path.exists(folder_path):\n",
    "            os.mkdir(folder_path)\n",
    "\n",
    "# function which filter our files in target folder and if sort them ,in case of unknown file extension passes it without breaking programm \n",
    "def optimize():\n",
    "    for file_name in os.listdir(folder_to_optimize):\n",
    "        file_path = os.path.join(folder_to_optimize, file_name)\n",
    "        if not os.path.isfile(file_path):\n",
    "            continue\n",
    "        file_extension = os.path.splitext(file_name)[1]\n",
    "        if file_extension not in file_extensions:\n",
    "            print(\"unknown extension \", file_extension)\n",
    "            continue\n",
    "        folder_name = file_extensions[file_extension]\n",
    "        folder_path = os.path.join(folder_to_optimize, folder_name)\n",
    "        shutil.move(file_path, folder_path)\n",
    "\n",
    "\n",
    "create_folders()\n",
    "optimize()\n"
   ]
  },
  {
   "cell_type": "code",
   "execution_count": null,
   "id": "70fd9be9",
   "metadata": {},
   "outputs": [],
   "source": []
  }
 ],
 "metadata": {
  "kernelspec": {
   "display_name": "Python 3",
   "language": "python",
   "name": "python3"
  },
  "language_info": {
   "codemirror_mode": {
    "name": "ipython",
    "version": 3
   },
   "file_extension": ".py",
   "mimetype": "text/x-python",
   "name": "python",
   "nbconvert_exporter": "python",
   "pygments_lexer": "ipython3",
   "version": "3.8.8"
  }
 },
 "nbformat": 4,
 "nbformat_minor": 5
}
